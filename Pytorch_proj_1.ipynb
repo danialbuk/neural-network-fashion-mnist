{
  "nbformat": 4,
  "nbformat_minor": 0,
  "metadata": {
    "colab": {
      "provenance": [],
      "authorship_tag": "ABX9TyNqbOFa6L2AdclcZVXfqr6Z",
      "include_colab_link": true
    },
    "kernelspec": {
      "name": "python3",
      "display_name": "Python 3"
    },
    "language_info": {
      "name": "python"
    }
  },
  "cells": [
    {
      "cell_type": "markdown",
      "metadata": {
        "id": "view-in-github",
        "colab_type": "text"
      },
      "source": [
        "<a href=\"https://colab.research.google.com/github/danialbuk/neural-network-fashion-mnist/blob/main/Pytorch_proj_1.ipynb\" target=\"_parent\"><img src=\"https://colab.research.google.com/assets/colab-badge.svg\" alt=\"Open In Colab\"/></a>"
      ]
    },
    {
      "cell_type": "code",
      "execution_count": null,
      "metadata": {
        "id": "_aaQNocpJh2x"
      },
      "outputs": [],
      "source": [
        "import torch\n",
        "from torch import nn\n",
        "from torch.utils.data import DataLoader\n",
        "from torchvision import datasets\n",
        "from torchvision.transforms import ToTensor"
      ]
    },
    {
      "cell_type": "code",
      "source": [
        "training_data = datasets.FashionMNIST(\n",
        "    root=\"data\",\n",
        "    train=True,\n",
        "    download=True,\n",
        "    transform=ToTensor(),\n",
        ")\n",
        "\n",
        "test_data = datasets.FashionMNIST(\n",
        "    root=\"data\",\n",
        "    train=False,\n",
        "    download=True,\n",
        "    transform=ToTensor(),\n",
        ")"
      ],
      "metadata": {
        "colab": {
          "base_uri": "https://localhost:8080/"
        },
        "id": "9WpNxaXOawqy",
        "outputId": "69b1ff1f-d4f1-4375-d0c1-5f65ca105276"
      },
      "execution_count": null,
      "outputs": [
        {
          "output_type": "stream",
          "name": "stderr",
          "text": [
            "100%|██████████| 26.4M/26.4M [00:02<00:00, 12.5MB/s]\n",
            "100%|██████████| 29.5k/29.5k [00:00<00:00, 197kB/s]\n",
            "100%|██████████| 4.42M/4.42M [00:01<00:00, 3.69MB/s]\n",
            "100%|██████████| 5.15k/5.15k [00:00<00:00, 13.1MB/s]\n"
          ]
        }
      ]
    },
    {
      "cell_type": "code",
      "source": [
        "batch_size = 64\n",
        "train_dataloader = DataLoader(training_data, batch_size=batch_size)\n",
        "test_dataloader = DataLoader(test_data, batch_size=batch_size)\n",
        "\n",
        "for X, y in test_dataloader:\n",
        "    print(f\"Shape of X [N, C, H, W]: {X.shape}\")\n",
        "    print(f\"Shape of y: {y.shape} {y.dtype}\")\n",
        "    break"
      ],
      "metadata": {
        "colab": {
          "base_uri": "https://localhost:8080/"
        },
        "id": "XbayXQQzb9V6",
        "outputId": "75d0567b-dac4-4e28-dd45-e5cc0209c7a6"
      },
      "execution_count": null,
      "outputs": [
        {
          "output_type": "stream",
          "name": "stdout",
          "text": [
            "Shape of X [N, C, H, W]: torch.Size([64, 1, 28, 28])\n",
            "Shape of y: torch.Size([64]) torch.int64\n"
          ]
        }
      ]
    },
    {
      "cell_type": "code",
      "source": [
        "device = torch.accelerator.current_accelerator().type if torch.accelerator.is_available() else \"cpu\"\n",
        "print(f\"Using {device} device\")\n",
        "\n",
        "class NeuralNetwork(nn.Module):\n",
        "    def __init__(self):\n",
        "        super().__init__()\n",
        "        self.flatten = nn.Flatten()\n",
        "        self.linear_relu_stack = nn.Sequential(\n",
        "            nn.Linear(28*28, 512),\n",
        "            nn.ReLU(),\n",
        "            nn.Linear(512, 512),\n",
        "            nn.ReLU(),\n",
        "            nn.Linear(512, 10)\n",
        "        )\n",
        "\n",
        "    def forward(self, x):\n",
        "        x = self.flatten(x)\n",
        "        logits = self.linear_relu_stack(x)\n",
        "        return logits\n",
        "\n",
        "model = NeuralNetwork().to(device)\n",
        "print(model)"
      ],
      "metadata": {
        "colab": {
          "base_uri": "https://localhost:8080/"
        },
        "id": "dIED9_ODd-iU",
        "outputId": "305ba41a-83e3-4737-de7a-6a16cefcaac1"
      },
      "execution_count": null,
      "outputs": [
        {
          "output_type": "stream",
          "name": "stdout",
          "text": [
            "Using cpu device\n",
            "NeuralNetwork(\n",
            "  (flatten): Flatten(start_dim=1, end_dim=-1)\n",
            "  (linear_relu_stack): Sequential(\n",
            "    (0): Linear(in_features=784, out_features=512, bias=True)\n",
            "    (1): ReLU()\n",
            "    (2): Linear(in_features=512, out_features=512, bias=True)\n",
            "    (3): ReLU()\n",
            "    (4): Linear(in_features=512, out_features=10, bias=True)\n",
            "  )\n",
            ")\n"
          ]
        }
      ]
    },
    {
      "cell_type": "code",
      "source": [
        "loss_fn = nn.CrossEntropyLoss()\n",
        "optimizer = torch.optim.SGD(model.parameters(), lr=1e-3)\n",
        "def train(dataloader, model, loss_fn, optimizer):\n",
        "    size = len(dataloader.dataset)\n",
        "    model.train()\n",
        "    for batch, (X, y) in enumerate(dataloader):\n",
        "        X, y = X.to(device), y.to(device)\n",
        "\n",
        "        pred = model(X)\n",
        "        loss = loss_fn(pred, y)\n",
        "\n",
        "        loss.backward()\n",
        "        optimizer.step()\n",
        "        optimizer.zero_grad()\n",
        "\n",
        "        if batch % 100 == 0:\n",
        "            loss, current = loss.item(), (batch + 1) * len(X)\n",
        "            print(f\"loss: {loss:>7f}  [{current:>5d}/{size:>5d}]\")"
      ],
      "metadata": {
        "id": "W-LXuR5TiYko"
      },
      "execution_count": null,
      "outputs": []
    },
    {
      "cell_type": "code",
      "source": [
        "def test(dataloader, model, loss_fn):\n",
        "    size = len(dataloader.dataset)\n",
        "    num_batches = len(dataloader)\n",
        "    model.eval()\n",
        "    test_loss, correct = 0, 0\n",
        "    with torch.no_grad():\n",
        "        for X, y in dataloader:\n",
        "            X, y = X.to(device), y.to(device)\n",
        "            pred = model(X)\n",
        "            test_loss += loss_fn(pred, y).item()\n",
        "            correct += (pred.argmax(1) == y).type(torch.float).sum().item()\n",
        "    test_loss /= num_batches\n",
        "    correct /= size\n",
        "    print(f\"Test Error: \\n Accuracy: {(100*correct):>0.1f}%, Avg loss: {test_loss:>8f} \\n\")"
      ],
      "metadata": {
        "id": "QzEz3uXMiw7C"
      },
      "execution_count": null,
      "outputs": []
    },
    {
      "cell_type": "code",
      "source": [
        "epochs = 5\n",
        "for t in range(epochs):\n",
        "    print(f\"Epoch {t+1}\\n-------------------------------\")\n",
        "    train(train_dataloader, model, loss_fn, optimizer)\n",
        "    test(test_dataloader, model, loss_fn)\n",
        "print(\"Done!\")"
      ],
      "metadata": {
        "colab": {
          "base_uri": "https://localhost:8080/"
        },
        "id": "TLMQJCU6iy7o",
        "outputId": "ae7442fd-36ac-4acb-d807-0197d753d5a1"
      },
      "execution_count": null,
      "outputs": [
        {
          "output_type": "stream",
          "name": "stdout",
          "text": [
            "Epoch 1\n",
            "-------------------------------\n",
            "loss: 2.314095  [   64/60000]\n",
            "loss: 2.295145  [ 6464/60000]\n",
            "loss: 2.276677  [12864/60000]\n",
            "loss: 2.263500  [19264/60000]\n",
            "loss: 2.239286  [25664/60000]\n",
            "loss: 2.214498  [32064/60000]\n",
            "loss: 2.226563  [38464/60000]\n",
            "loss: 2.190677  [44864/60000]\n",
            "loss: 2.182482  [51264/60000]\n",
            "loss: 2.152732  [57664/60000]\n",
            "Test Error: \n",
            " Accuracy: 43.5%, Avg loss: 2.150744 \n",
            "\n",
            "Epoch 2\n",
            "-------------------------------\n",
            "loss: 2.158834  [   64/60000]\n",
            "loss: 2.149660  [ 6464/60000]\n",
            "loss: 2.092863  [12864/60000]\n",
            "loss: 2.110229  [19264/60000]\n",
            "loss: 2.044241  [25664/60000]\n",
            "loss: 1.992409  [32064/60000]\n",
            "loss: 2.020645  [38464/60000]\n",
            "loss: 1.939615  [44864/60000]\n",
            "loss: 1.944242  [51264/60000]\n",
            "loss: 1.876948  [57664/60000]\n",
            "Test Error: \n",
            " Accuracy: 54.7%, Avg loss: 1.878191 \n",
            "\n",
            "Epoch 3\n",
            "-------------------------------\n",
            "loss: 1.902610  [   64/60000]\n",
            "loss: 1.877780  [ 6464/60000]\n",
            "loss: 1.761792  [12864/60000]\n",
            "loss: 1.809000  [19264/60000]\n",
            "loss: 1.684132  [25664/60000]\n",
            "loss: 1.644122  [32064/60000]\n",
            "loss: 1.665595  [38464/60000]\n",
            "loss: 1.569265  [44864/60000]\n",
            "loss: 1.595786  [51264/60000]\n",
            "loss: 1.492051  [57664/60000]\n",
            "Test Error: \n",
            " Accuracy: 60.0%, Avg loss: 1.513562 \n",
            "\n",
            "Epoch 4\n",
            "-------------------------------\n",
            "loss: 1.573660  [   64/60000]\n",
            "loss: 1.543639  [ 6464/60000]\n",
            "loss: 1.395331  [12864/60000]\n",
            "loss: 1.472048  [19264/60000]\n",
            "loss: 1.339777  [25664/60000]\n",
            "loss: 1.345926  [32064/60000]\n",
            "loss: 1.358033  [38464/60000]\n",
            "loss: 1.285706  [44864/60000]\n",
            "loss: 1.323098  [51264/60000]\n",
            "loss: 1.221981  [57664/60000]\n",
            "Test Error: \n",
            " Accuracy: 62.6%, Avg loss: 1.251422 \n",
            "\n",
            "Epoch 5\n",
            "-------------------------------\n",
            "loss: 1.324951  [   64/60000]\n",
            "loss: 1.307866  [ 6464/60000]\n",
            "loss: 1.142431  [12864/60000]\n",
            "loss: 1.254334  [19264/60000]\n",
            "loss: 1.116854  [25664/60000]\n",
            "loss: 1.153163  [32064/60000]\n",
            "loss: 1.174034  [38464/60000]\n",
            "loss: 1.110112  [44864/60000]\n",
            "loss: 1.153531  [51264/60000]\n",
            "loss: 1.067906  [57664/60000]\n",
            "Test Error: \n",
            " Accuracy: 64.3%, Avg loss: 1.090829 \n",
            "\n",
            "Done!\n"
          ]
        }
      ]
    }
  ]
}